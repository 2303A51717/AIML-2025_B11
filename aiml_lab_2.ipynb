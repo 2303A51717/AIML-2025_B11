{
  "nbformat": 4,
  "nbformat_minor": 0,
  "metadata": {
    "colab": {
      "provenance": [],
      "authorship_tag": "ABX9TyP64BKUU2M5LT6jBe62Vvlu",
      "include_colab_link": true
    },
    "kernelspec": {
      "name": "python3",
      "display_name": "Python 3"
    },
    "language_info": {
      "name": "python"
    }
  },
  "cells": [
    {
      "cell_type": "markdown",
      "metadata": {
        "id": "view-in-github",
        "colab_type": "text"
      },
      "source": [
        "<a href=\"https://colab.research.google.com/github/2303A51717/AIML-2025_B11/blob/main/aiml_lab_2.ipynb\" target=\"_parent\"><img src=\"https://colab.research.google.com/assets/colab-badge.svg\" alt=\"Open In Colab\"/></a>"
      ]
    },
    {
      "cell_type": "code",
      "source": [
        "from queue import Queue\n",
        "\n",
        "graph = {0: [1, 2, 3],\n",
        "         1: [0, 2],\n",
        "         2: [1, 3, 5],\n",
        "         3: [0, 2, 4],\n",
        "         4: [3, 5, 7],\n",
        "         5: [2, 4, 6, 7],\n",
        "         6: [5, 7],\n",
        "         7:[]}\n",
        "         print(\"The adjacency List representing the graph is:\")\n",
        "         print(graph)\n",
        "\n",
        "\n",
        "         def bfs(graph, source):\n",
        "         Q = Queue()\n",
        "         visited_vertices = set()\n",
        "         Q.put(source)\n",
        "         visited_vertices.update({source})\n",
        "         while not Q.empty():\n",
        "         vertex = Q.get()\n",
        "         print(vertex, end=\"-->\")\n",
        "         for u in graph[vertex]:\n",
        "         if u not in visited_vertices:\n",
        "          Q.put(u)\n",
        "          visited_vertices.update({u})\n",
        "\n",
        "           print(\"BFS traversal of graph with source 1 is:\")\n",
        "           bfs(graph, 1)\n",
        "\n",
        "     The adjacency List representing the graph is:\n",
        "     {0: [1, 2, 3], 1: [0, 2], 2: [1, 3, 5], 3: [0, 2, 4], 4: [3, 5, 7], 5: [2, 4, 6, 7], 6: [5, 7], 7: []}\n",
        "   BFS traversal of graph with source 1 is:\n",
        "   1-->0-->2-->3-->5-->4-->6-->7-->"
      ],
      "metadata": {
        "id": "angQwpy8KoA2",
        "outputId": "d0677aa0-58b5-48c6-cb06-064b61c7273f",
        "colab": {
          "base_uri": "https://localhost:8080/",
          "height": 109
        }
      },
      "execution_count": 2,
      "outputs": [
        {
          "output_type": "error",
          "ename": "IndentationError",
          "evalue": "unindent does not match any outer indentation level (<tokenize>, line 31)",
          "traceback": [
            "\u001b[0;36m  File \u001b[0;32m\"<tokenize>\"\u001b[0;36m, line \u001b[0;32m31\u001b[0m\n\u001b[0;31m    The adjacency List representing the graph is:\u001b[0m\n\u001b[0m    ^\u001b[0m\n\u001b[0;31mIndentationError\u001b[0m\u001b[0;31m:\u001b[0m unindent does not match any outer indentation level\n"
          ]
        }
      ]
    }
  ]
}